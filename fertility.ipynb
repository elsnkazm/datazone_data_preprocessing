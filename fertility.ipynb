{
 "cells": [
  {
   "cell_type": "code",
   "execution_count": 1,
   "id": "e83a5f36",
   "metadata": {},
   "outputs": [
    {
     "name": "stdout",
     "output_type": "stream",
     "text": [
      "Intel MKL WARNING: Support of Intel(R) Streaming SIMD Extensions 4.2 (Intel(R) SSE4.2) enabled only processors has been deprecated. Intel oneAPI Math Kernel Library 2025.0 will require Intel(R) Advanced Vector Extensions (Intel(R) AVX) instructions.\n",
      "Intel MKL WARNING: Support of Intel(R) Streaming SIMD Extensions 4.2 (Intel(R) SSE4.2) enabled only processors has been deprecated. Intel oneAPI Math Kernel Library 2025.0 will require Intel(R) Advanced Vector Extensions (Intel(R) AVX) instructions.\n"
     ]
    }
   ],
   "source": [
    "import numpy as np\n",
    "import pandas as pd\n",
    "import matplotlib.pyplot as plt\n",
    "import seaborn as sns\n",
    "\n",
    "from sklearn.model_selection import train_test_split, cross_val_score, LeaveOneOut\n",
    "from sklearn import preprocessing as skpp\n",
    "from sklearn.linear_model import LogisticRegression\n",
    "from sklearn.svm import SVC\n",
    "\n",
    "from sklearn import metrics"
   ]
  },
  {
   "cell_type": "code",
   "execution_count": 2,
   "id": "26636551",
   "metadata": {},
   "outputs": [],
   "source": [
    "tx = pd.read_csv('fertility_Diagnosis.txt', header=None)\n",
    "df=pd.DataFrame(tx.values, columns=['test_season','age','had_chood_disease','had_trauma','had_surgery',\n",
    "                            'had_fever_lasty', 'alcholo_freq', 'smoking_freq', 'hours_sitting',\n",
    "                            'target'])"
   ]
  },
  {
   "cell_type": "code",
   "execution_count": 12,
   "id": "19501c96",
   "metadata": {},
   "outputs": [
    {
     "ename": "SyntaxError",
     "evalue": "invalid syntax (1991404812.py, line 1)",
     "output_type": "error",
     "traceback": [
      "\u001b[0;36m  Cell \u001b[0;32mIn[12], line 1\u001b[0;36m\u001b[0m\n\u001b[0;31m    HOMEWORK 2\u001b[0m\n\u001b[0m             ^\u001b[0m\n\u001b[0;31mSyntaxError\u001b[0m\u001b[0;31m:\u001b[0m invalid syntax\n"
     ]
    }
   ],
   "source": [
    "HOMEWORK 2\n",
    "1. Examine the “Fertility_dataset” data file and\n",
    "a) What can be done during the data pre-processing stage?\n",
    "b) What are the faulty and problematic points in dataset?\n",
    "You need to preprocess the data by determining\n",
    "2. Fertility dataset\n",
    "Summary: 100 volunteers provide semen samples analyzed according to WHO\n",
    "2010 criteria. Sperm concentration is related to socio-demographic data, environmental\n",
    "factors, health status and living habits.\n",
    "Feature Information:\n",
    "Column 1: Season in which the analysis was conducted. 1) winter, 2) spring, 3) summer,\n",
    "4) autumn. in data\n",
    "Codes: (-1, -0.33, 0.33, 1)\n",
    "Column 2: Age at time of analysis. 18-36 (ages standardized between 0 and 1)\n",
    "Column 3: Childhood diseases (chickenpox, measles, mumps, polio) 1) yes, 2) no. Codes\n",
    "in Data: (0:yes, 1:no)\n",
    "Column 4: Accident or serious trauma 1) yes, 2) no. Codes in Data: (0:yes, 1:no) Column\n",
    "5: Surgical intervention 1) yes, 2) no. Codes in Data: (0:yes, 1:no)\n",
    "Column 6: High fever in the last year 1) less than three months ago, 2) more than three\n",
    "months ago, 3) no.\n",
    "Codes in Data: (-1, 0, 1)\n",
    "Column 7: Frequency of alcohol use: 1) Several times a day, 2) Every day, 3) Several\n",
    "times a week, 4) Once a week, 5) Almost never or never (5 groups coded between 0, 1:\n",
    "0,2, 0.4, 0.6, 0.8, 1)\n",
    "Column 8: Smoking habit 1)never, 2)sometimes 3)every day. Codes in the Data:\n",
    "(-1, 0, 1)\n",
    "Column 9: Number of hours spent sitting per day ene-16 (standardized between 0 and 1)\n",
    "Column 10: Output: Diagnosis normal (N), modified (A) (1: normal, 2: Modified)\n",
    "Codes: (1, 2)\n",
    "Related Paper: Gil, D., Girela, J. L., De Juan, J., Gomez-Torres, M. J., &amp; Johnsson, M.\n",
    "(2012). Predicting seminal quality with artificial intelligence methods. Expert Systems\n",
    "with Applications, 39(16), 12564-12573.\n",
    "https://www.sciencedirect.com/science/article/pii/S0957417412007269\n",
    "3. Using the Artifial Intelligence methods explained within the scope of the course\n",
    "(Linear Regresion Analysis, Logistic Regresion Analysis and Support Vector Machine),\n",
    "Perform analysis and classification operations."
   ]
  },
  {
   "cell_type": "markdown",
   "id": "977072e2",
   "metadata": {},
   "source": [
    "1. Season, fever, alcohol and smoking frequency columns should be converted to original categories since it is not correct to use current values as inout to any ML model\n",
    "2. Yes no columns should be reversed as current values are nt conventional\n",
    "3. Target should be converted to 0-1\n",
    "\n",
    "\n",
    "Problematic\n",
    "1. Incorrect values for categerical columns\n",
    "2. Already standardized values for contunious columns using whole data which means when we do train-test split we will face some level of data leakage. Since max and min values from original data is not known we can reverse this standardization.\n",
    "3. Few samples\n",
    "4. Very few samples for positive class (12)\n"
   ]
  },
  {
   "cell_type": "code",
   "execution_count": 3,
   "id": "a05e289b",
   "metadata": {},
   "outputs": [
    {
     "data": {
      "text/html": [
       "<div>\n",
       "<style scoped>\n",
       "    .dataframe tbody tr th:only-of-type {\n",
       "        vertical-align: middle;\n",
       "    }\n",
       "\n",
       "    .dataframe tbody tr th {\n",
       "        vertical-align: top;\n",
       "    }\n",
       "\n",
       "    .dataframe thead th {\n",
       "        text-align: right;\n",
       "    }\n",
       "</style>\n",
       "<table border=\"1\" class=\"dataframe\">\n",
       "  <thead>\n",
       "    <tr style=\"text-align: right;\">\n",
       "      <th></th>\n",
       "      <th>test_season</th>\n",
       "      <th>age</th>\n",
       "      <th>had_chood_disease</th>\n",
       "      <th>had_trauma</th>\n",
       "      <th>had_surgery</th>\n",
       "      <th>had_fever_lasty</th>\n",
       "      <th>alcholo_freq</th>\n",
       "      <th>smoking_freq</th>\n",
       "      <th>hours_sitting</th>\n",
       "      <th>target</th>\n",
       "    </tr>\n",
       "  </thead>\n",
       "  <tbody>\n",
       "    <tr>\n",
       "      <th>0</th>\n",
       "      <td>-0.33</td>\n",
       "      <td>0.69</td>\n",
       "      <td>0</td>\n",
       "      <td>1</td>\n",
       "      <td>1</td>\n",
       "      <td>0</td>\n",
       "      <td>0.8</td>\n",
       "      <td>0</td>\n",
       "      <td>0.88</td>\n",
       "      <td>N</td>\n",
       "    </tr>\n",
       "    <tr>\n",
       "      <th>1</th>\n",
       "      <td>-0.33</td>\n",
       "      <td>0.94</td>\n",
       "      <td>1</td>\n",
       "      <td>0</td>\n",
       "      <td>1</td>\n",
       "      <td>0</td>\n",
       "      <td>0.8</td>\n",
       "      <td>1</td>\n",
       "      <td>0.31</td>\n",
       "      <td>O</td>\n",
       "    </tr>\n",
       "    <tr>\n",
       "      <th>2</th>\n",
       "      <td>-0.33</td>\n",
       "      <td>0.5</td>\n",
       "      <td>1</td>\n",
       "      <td>0</td>\n",
       "      <td>0</td>\n",
       "      <td>0</td>\n",
       "      <td>1.0</td>\n",
       "      <td>-1</td>\n",
       "      <td>0.5</td>\n",
       "      <td>N</td>\n",
       "    </tr>\n",
       "    <tr>\n",
       "      <th>3</th>\n",
       "      <td>-0.33</td>\n",
       "      <td>0.75</td>\n",
       "      <td>0</td>\n",
       "      <td>1</td>\n",
       "      <td>1</td>\n",
       "      <td>0</td>\n",
       "      <td>1.0</td>\n",
       "      <td>-1</td>\n",
       "      <td>0.38</td>\n",
       "      <td>N</td>\n",
       "    </tr>\n",
       "    <tr>\n",
       "      <th>4</th>\n",
       "      <td>-0.33</td>\n",
       "      <td>0.67</td>\n",
       "      <td>1</td>\n",
       "      <td>1</td>\n",
       "      <td>0</td>\n",
       "      <td>0</td>\n",
       "      <td>0.8</td>\n",
       "      <td>-1</td>\n",
       "      <td>0.5</td>\n",
       "      <td>O</td>\n",
       "    </tr>\n",
       "  </tbody>\n",
       "</table>\n",
       "</div>"
      ],
      "text/plain": [
       "  test_season   age had_chood_disease had_trauma had_surgery had_fever_lasty  \\\n",
       "0       -0.33  0.69                 0          1           1               0   \n",
       "1       -0.33  0.94                 1          0           1               0   \n",
       "2       -0.33   0.5                 1          0           0               0   \n",
       "3       -0.33  0.75                 0          1           1               0   \n",
       "4       -0.33  0.67                 1          1           0               0   \n",
       "\n",
       "  alcholo_freq smoking_freq hours_sitting target  \n",
       "0          0.8            0          0.88      N  \n",
       "1          0.8            1          0.31      O  \n",
       "2          1.0           -1           0.5      N  \n",
       "3          1.0           -1          0.38      N  \n",
       "4          0.8           -1           0.5      O  "
      ]
     },
     "execution_count": 3,
     "metadata": {},
     "output_type": "execute_result"
    }
   ],
   "source": [
    "df.head()"
   ]
  },
  {
   "cell_type": "code",
   "execution_count": 4,
   "id": "bfa91b8f",
   "metadata": {},
   "outputs": [],
   "source": [
    "map_season = {-1:'winter', -0.33:'spring', 0.33:'summer', 1:'autumn'}\n",
    "map_yes_no = {0:1, 1:0}\n",
    "map_fever = {-1:'less_than_3m', 0: 'more_than_3m', 1: 'no'}\n",
    "map_alcohol = {0.2:'several_per_day', 0.4: 'once_a_day', 0.6: 'several_per_week', 0.8: 'once_a_week', 1:'almost_never'} \n",
    "map_smoking = {-1:'never', 0:'sometimes', 1:'every_day'}\n",
    "map_target = {'N':0,'O':1}\n",
    "\n",
    "\n",
    "\n",
    "df['test_season'] = df['test_season'].replace(map_season)\n",
    "df[['had_chood_disease', 'had_trauma','had_surgery']] = df[['had_chood_disease', \n",
    "                                'had_trauma','had_surgery']].replace(map_yes_no)\n",
    "df['had_fever_lasty'] = df['had_fever_lasty'].replace(map_fever)\n",
    "df['alcholo_freq'] = df['alcholo_freq'].replace(map_alcohol)\n",
    "df['smoking_freq'] = df['smoking_freq'].replace(map_smoking)\n",
    "df['target'] = df['target'].replace(map_target)"
   ]
  },
  {
   "cell_type": "code",
   "execution_count": 5,
   "id": "d71e81cf",
   "metadata": {},
   "outputs": [
    {
     "data": {
      "text/html": [
       "<div>\n",
       "<style scoped>\n",
       "    .dataframe tbody tr th:only-of-type {\n",
       "        vertical-align: middle;\n",
       "    }\n",
       "\n",
       "    .dataframe tbody tr th {\n",
       "        vertical-align: top;\n",
       "    }\n",
       "\n",
       "    .dataframe thead th {\n",
       "        text-align: right;\n",
       "    }\n",
       "</style>\n",
       "<table border=\"1\" class=\"dataframe\">\n",
       "  <thead>\n",
       "    <tr style=\"text-align: right;\">\n",
       "      <th></th>\n",
       "      <th>test_season</th>\n",
       "      <th>age</th>\n",
       "      <th>had_chood_disease</th>\n",
       "      <th>had_trauma</th>\n",
       "      <th>had_surgery</th>\n",
       "      <th>had_fever_lasty</th>\n",
       "      <th>alcholo_freq</th>\n",
       "      <th>smoking_freq</th>\n",
       "      <th>hours_sitting</th>\n",
       "      <th>target</th>\n",
       "    </tr>\n",
       "  </thead>\n",
       "  <tbody>\n",
       "    <tr>\n",
       "      <th>0</th>\n",
       "      <td>spring</td>\n",
       "      <td>0.69</td>\n",
       "      <td>1</td>\n",
       "      <td>0</td>\n",
       "      <td>0</td>\n",
       "      <td>more_than_3m</td>\n",
       "      <td>once_a_week</td>\n",
       "      <td>sometimes</td>\n",
       "      <td>0.88</td>\n",
       "      <td>0</td>\n",
       "    </tr>\n",
       "    <tr>\n",
       "      <th>1</th>\n",
       "      <td>spring</td>\n",
       "      <td>0.94</td>\n",
       "      <td>0</td>\n",
       "      <td>1</td>\n",
       "      <td>0</td>\n",
       "      <td>more_than_3m</td>\n",
       "      <td>once_a_week</td>\n",
       "      <td>every_day</td>\n",
       "      <td>0.31</td>\n",
       "      <td>1</td>\n",
       "    </tr>\n",
       "    <tr>\n",
       "      <th>2</th>\n",
       "      <td>spring</td>\n",
       "      <td>0.5</td>\n",
       "      <td>0</td>\n",
       "      <td>1</td>\n",
       "      <td>1</td>\n",
       "      <td>more_than_3m</td>\n",
       "      <td>almost_never</td>\n",
       "      <td>never</td>\n",
       "      <td>0.5</td>\n",
       "      <td>0</td>\n",
       "    </tr>\n",
       "    <tr>\n",
       "      <th>3</th>\n",
       "      <td>spring</td>\n",
       "      <td>0.75</td>\n",
       "      <td>1</td>\n",
       "      <td>0</td>\n",
       "      <td>0</td>\n",
       "      <td>more_than_3m</td>\n",
       "      <td>almost_never</td>\n",
       "      <td>never</td>\n",
       "      <td>0.38</td>\n",
       "      <td>0</td>\n",
       "    </tr>\n",
       "    <tr>\n",
       "      <th>4</th>\n",
       "      <td>spring</td>\n",
       "      <td>0.67</td>\n",
       "      <td>0</td>\n",
       "      <td>0</td>\n",
       "      <td>1</td>\n",
       "      <td>more_than_3m</td>\n",
       "      <td>once_a_week</td>\n",
       "      <td>never</td>\n",
       "      <td>0.5</td>\n",
       "      <td>1</td>\n",
       "    </tr>\n",
       "    <tr>\n",
       "      <th>...</th>\n",
       "      <td>...</td>\n",
       "      <td>...</td>\n",
       "      <td>...</td>\n",
       "      <td>...</td>\n",
       "      <td>...</td>\n",
       "      <td>...</td>\n",
       "      <td>...</td>\n",
       "      <td>...</td>\n",
       "      <td>...</td>\n",
       "      <td>...</td>\n",
       "    </tr>\n",
       "    <tr>\n",
       "      <th>95</th>\n",
       "      <td>winter</td>\n",
       "      <td>0.67</td>\n",
       "      <td>0</td>\n",
       "      <td>1</td>\n",
       "      <td>1</td>\n",
       "      <td>more_than_3m</td>\n",
       "      <td>almost_never</td>\n",
       "      <td>never</td>\n",
       "      <td>0.5</td>\n",
       "      <td>0</td>\n",
       "    </tr>\n",
       "    <tr>\n",
       "      <th>96</th>\n",
       "      <td>winter</td>\n",
       "      <td>0.61</td>\n",
       "      <td>0</td>\n",
       "      <td>1</td>\n",
       "      <td>1</td>\n",
       "      <td>more_than_3m</td>\n",
       "      <td>once_a_week</td>\n",
       "      <td>sometimes</td>\n",
       "      <td>0.5</td>\n",
       "      <td>0</td>\n",
       "    </tr>\n",
       "    <tr>\n",
       "      <th>97</th>\n",
       "      <td>winter</td>\n",
       "      <td>0.67</td>\n",
       "      <td>0</td>\n",
       "      <td>0</td>\n",
       "      <td>0</td>\n",
       "      <td>more_than_3m</td>\n",
       "      <td>almost_never</td>\n",
       "      <td>never</td>\n",
       "      <td>0.31</td>\n",
       "      <td>0</td>\n",
       "    </tr>\n",
       "    <tr>\n",
       "      <th>98</th>\n",
       "      <td>winter</td>\n",
       "      <td>0.64</td>\n",
       "      <td>0</td>\n",
       "      <td>1</td>\n",
       "      <td>0</td>\n",
       "      <td>more_than_3m</td>\n",
       "      <td>almost_never</td>\n",
       "      <td>sometimes</td>\n",
       "      <td>0.19</td>\n",
       "      <td>0</td>\n",
       "    </tr>\n",
       "    <tr>\n",
       "      <th>99</th>\n",
       "      <td>winter</td>\n",
       "      <td>0.69</td>\n",
       "      <td>1</td>\n",
       "      <td>0</td>\n",
       "      <td>0</td>\n",
       "      <td>more_than_3m</td>\n",
       "      <td>several_per_week</td>\n",
       "      <td>never</td>\n",
       "      <td>0.19</td>\n",
       "      <td>0</td>\n",
       "    </tr>\n",
       "  </tbody>\n",
       "</table>\n",
       "<p>100 rows × 10 columns</p>\n",
       "</div>"
      ],
      "text/plain": [
       "   test_season   age  had_chood_disease  had_trauma  had_surgery  \\\n",
       "0       spring  0.69                  1           0            0   \n",
       "1       spring  0.94                  0           1            0   \n",
       "2       spring   0.5                  0           1            1   \n",
       "3       spring  0.75                  1           0            0   \n",
       "4       spring  0.67                  0           0            1   \n",
       "..         ...   ...                ...         ...          ...   \n",
       "95      winter  0.67                  0           1            1   \n",
       "96      winter  0.61                  0           1            1   \n",
       "97      winter  0.67                  0           0            0   \n",
       "98      winter  0.64                  0           1            0   \n",
       "99      winter  0.69                  1           0            0   \n",
       "\n",
       "   had_fever_lasty      alcholo_freq smoking_freq hours_sitting  target  \n",
       "0     more_than_3m       once_a_week    sometimes          0.88       0  \n",
       "1     more_than_3m       once_a_week    every_day          0.31       1  \n",
       "2     more_than_3m      almost_never        never           0.5       0  \n",
       "3     more_than_3m      almost_never        never          0.38       0  \n",
       "4     more_than_3m       once_a_week        never           0.5       1  \n",
       "..             ...               ...          ...           ...     ...  \n",
       "95    more_than_3m      almost_never        never           0.5       0  \n",
       "96    more_than_3m       once_a_week    sometimes           0.5       0  \n",
       "97    more_than_3m      almost_never        never          0.31       0  \n",
       "98    more_than_3m      almost_never    sometimes          0.19       0  \n",
       "99    more_than_3m  several_per_week        never          0.19       0  \n",
       "\n",
       "[100 rows x 10 columns]"
      ]
     },
     "execution_count": 5,
     "metadata": {},
     "output_type": "execute_result"
    }
   ],
   "source": [
    "df"
   ]
  },
  {
   "cell_type": "code",
   "execution_count": 6,
   "id": "b48bab8f",
   "metadata": {},
   "outputs": [
    {
     "data": {
      "text/plain": [
       "test_season          0\n",
       "age                  0\n",
       "had_chood_disease    0\n",
       "had_trauma           0\n",
       "had_surgery          0\n",
       "had_fever_lasty      0\n",
       "alcholo_freq         0\n",
       "smoking_freq         0\n",
       "hours_sitting        0\n",
       "target               0\n",
       "dtype: int64"
      ]
     },
     "execution_count": 6,
     "metadata": {},
     "output_type": "execute_result"
    }
   ],
   "source": [
    "df.isna().sum()"
   ]
  },
  {
   "cell_type": "code",
   "execution_count": 7,
   "id": "f95e6099",
   "metadata": {},
   "outputs": [],
   "source": [
    "# Define columns based on data types\n",
    "X = df.drop('target', axis=1)\n",
    "y = df['target']\n",
    "\n",
    "\n",
    "ohe = skpp.OneHotEncoder(sparse_output=False, drop='if_binary').set_output(transform='pandas')\n",
    "X_ohe = ohe.fit_transform(X[['test_season', 'had_fever_lasty', 'alcholo_freq', 'smoking_freq']])\n",
    "X.drop(['test_season', 'had_fever_lasty', 'alcholo_freq', 'smoking_freq'], axis=1, inplace=True)\n",
    "X = pd.concat([X, X_ohe], axis=1)\n",
    "\n",
    "\n",
    "X_train, X_test, y_train, y_test = train_test_split(X, y, test_size=0.33, random_state=1, stratify=y)"
   ]
  },
  {
   "cell_type": "code",
   "execution_count": 8,
   "id": "b626bd17",
   "metadata": {},
   "outputs": [],
   "source": [
    "model = LogisticRegression(class_weight='balanced', C=0.01)\n",
    "\n",
    "model.fit(X_train, y_train)\n",
    "y_pred_train = model.predict(X_train)\n",
    "y_pred_test = model.predict(X_test)"
   ]
  },
  {
   "cell_type": "code",
   "execution_count": 9,
   "id": "67a583ac",
   "metadata": {},
   "outputs": [
    {
     "name": "stdout",
     "output_type": "stream",
     "text": [
      "              precision    recall  f1-score   support\n",
      "\n",
      "           0       0.95      0.64      0.77        59\n",
      "           1       0.22      0.75      0.34         8\n",
      "\n",
      "    accuracy                           0.66        67\n",
      "   macro avg       0.59      0.70      0.56        67\n",
      "weighted avg       0.86      0.66      0.72        67\n",
      "\n"
     ]
    }
   ],
   "source": [
    "print(metrics.classification_report(y_train, y_pred_train))"
   ]
  },
  {
   "cell_type": "code",
   "execution_count": 10,
   "id": "bd027408",
   "metadata": {},
   "outputs": [
    {
     "name": "stdout",
     "output_type": "stream",
     "text": [
      "              precision    recall  f1-score   support\n",
      "\n",
      "           0       0.91      0.69      0.78        29\n",
      "           1       0.18      0.50      0.27         4\n",
      "\n",
      "    accuracy                           0.67        33\n",
      "   macro avg       0.55      0.59      0.53        33\n",
      "weighted avg       0.82      0.67      0.72        33\n",
      "\n"
     ]
    }
   ],
   "source": [
    "print(metrics.classification_report(y_test, y_pred_test))"
   ]
  },
  {
   "cell_type": "code",
   "execution_count": 11,
   "id": "2d2d9190",
   "metadata": {},
   "outputs": [
    {
     "data": {
      "image/png": "[encoded data removed]",
      "text/plain": [
       "<Figure size 800x600 with 1 Axes>"
      ]
     },
     "metadata": {},
     "output_type": "display_data"
    }
   ],
   "source": [
    "cm = metrics.confusion_matrix(y_test, y_pred_test)\n",
    "\n",
    "plt.figure(figsize=(8, 6))\n",
    "sns.heatmap(cm, annot=True, fmt=\"d\", cmap=\"Blues\", cbar=False,\n",
    "            xticklabels=['Class 0', 'Class 1'], yticklabels=['Class 0', 'Class 1'])\n",
    "plt.title('Confusion Matrix')\n",
    "plt.xlabel('Predicted')\n",
    "plt.ylabel('Actual')\n",
    "plt.show()"
   ]
  },
  {
   "cell_type": "code",
   "execution_count": 12,
   "id": "f241f99c",
   "metadata": {},
   "outputs": [],
   "source": [
    "svc = SVC(class_weight='balanced', C=0.01)\n",
    "\n",
    "svc.fit(X_train, y_train)\n",
    "y_pred_train = model.predict(X_train)\n",
    "y_pred_test = model.predict(X_test)"
   ]
  },
  {
   "cell_type": "code",
   "execution_count": 13,
   "id": "fc203bfb",
   "metadata": {},
   "outputs": [
    {
     "name": "stdout",
     "output_type": "stream",
     "text": [
      "              precision    recall  f1-score   support\n",
      "\n",
      "           0       0.95      0.64      0.77        59\n",
      "           1       0.22      0.75      0.34         8\n",
      "\n",
      "    accuracy                           0.66        67\n",
      "   macro avg       0.59      0.70      0.56        67\n",
      "weighted avg       0.86      0.66      0.72        67\n",
      "\n"
     ]
    }
   ],
   "source": [
    "print(metrics.classification_report(y_train, y_pred_train))"
   ]
  },
  {
   "cell_type": "code",
   "execution_count": 14,
   "id": "00a3adaf",
   "metadata": {},
   "outputs": [
    {
     "name": "stdout",
     "output_type": "stream",
     "text": [
      "              precision    recall  f1-score   support\n",
      "\n",
      "           0       0.91      0.69      0.78        29\n",
      "           1       0.18      0.50      0.27         4\n",
      "\n",
      "    accuracy                           0.67        33\n",
      "   macro avg       0.55      0.59      0.53        33\n",
      "weighted avg       0.82      0.67      0.72        33\n",
      "\n"
     ]
    }
   ],
   "source": [
    "print(metrics.classification_report(y_test, y_pred_test))"
   ]
  },
  {
   "cell_type": "code",
   "execution_count": 15,
   "id": "c163c7fe",
   "metadata": {},
   "outputs": [],
   "source": [
    "from imblearn.over_sampling import SMOTE\n",
    "\n",
    "smote = SMOTE(random_state=1)\n",
    "\n",
    "# Apply SMOTE to the training set\n",
    "X_train_resampled, y_train_resampled = smote.fit_resample(X_train, y_train)\n"
   ]
  },
  {
   "cell_type": "code",
   "execution_count": 19,
   "id": "87149249",
   "metadata": {},
   "outputs": [],
   "source": [
    "svc2 = SVC(class_weight='balanced', C=0.01)\n",
    "\n",
    "svc2.fit(X_train_resampled, y_train_resampled)\n",
    "y_pred_train = model.predict(X_train_resampled)\n",
    "y_pred_test = model.predict(X_test)"
   ]
  },
  {
   "cell_type": "code",
   "execution_count": 20,
   "id": "e7f161df",
   "metadata": {},
   "outputs": [
    {
     "name": "stdout",
     "output_type": "stream",
     "text": [
      "              precision    recall  f1-score   support\n",
      "\n",
      "           0       0.81      0.64      0.72        59\n",
      "           1       0.70      0.85      0.77        59\n",
      "\n",
      "    accuracy                           0.75       118\n",
      "   macro avg       0.76      0.75      0.74       118\n",
      "weighted avg       0.76      0.75      0.74       118\n",
      "\n"
     ]
    }
   ],
   "source": [
    "print(metrics.classification_report(y_train_resampled, y_pred_train))"
   ]
  },
  {
   "cell_type": "code",
   "execution_count": 21,
   "id": "ff8d1ebd",
   "metadata": {},
   "outputs": [
    {
     "name": "stdout",
     "output_type": "stream",
     "text": [
      "              precision    recall  f1-score   support\n",
      "\n",
      "           0       0.91      0.69      0.78        29\n",
      "           1       0.18      0.50      0.27         4\n",
      "\n",
      "    accuracy                           0.67        33\n",
      "   macro avg       0.55      0.59      0.53        33\n",
      "weighted avg       0.82      0.67      0.72        33\n",
      "\n"
     ]
    }
   ],
   "source": [
    "print(metrics.classification_report(y_test, y_pred_test))"
   ]
  },
  {
   "cell_type": "markdown",
   "id": "a818bb5f",
   "metadata": {},
   "source": [
    "Results:\n",
    "\n",
    "note: add confusion matrix graph to word\n",
    "\n",
    "For logistic regression and SVC I got same best result when C = 0.01 (penalty parameter). Recall for positive class is 0.5 meaning that it could predict hall of actual patients. Using smote for oversampling did not help resulting in same performance in test set. To get better performance we need larger dataset with additional meaningful features."
   ]
  }
 ],
 "metadata": {
  "kernelspec": {
   "display_name": "Python 3 (ipykernel)",
   "language": "python",
   "name": "python3"
  },
  "language_info": {
   "codemirror_mode": {
    "name": "ipython",
    "version": 3
   },
   "file_extension": ".py",
   "mimetype": "text/x-python",
   "name": "python",
   "nbconvert_exporter": "python",
   "pygments_lexer": "ipython3",
   "version": "3.9.18"
  }
 },
 "nbformat": 4,
 "nbformat_minor": 5
}
